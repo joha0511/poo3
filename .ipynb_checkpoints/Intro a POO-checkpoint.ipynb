{
 "cells": [
  {
   "cell_type": "markdown",
   "id": "6d3adacc",
   "metadata": {},
   "source": [
    "# El problema del paradigma procedural"
   ]
  },
  {
   "cell_type": "code",
   "execution_count": null,
   "id": "32d89975",
   "metadata": {},
   "outputs": [],
   "source": [
    "numero = 123\n",
    "titular = 'Anacleto Metralla'\n",
    "saldo = 100.00\n",
    "limite = 1000.0"
   ]
  },
  {
   "cell_type": "code",
   "execution_count": null,
   "id": "9647225f",
   "metadata": {},
   "outputs": [],
   "source": [
    "cuenta = {'numero': 123, 'titular':'Anacleto Metralla', 'saldo':100.0, 'limite':1000.0} #se esta asociando los valores"
   ]
  },
  {
   "cell_type": "code",
   "execution_count": null,
   "id": "55047578",
   "metadata": {},
   "outputs": [],
   "source": [
    "cuenta['numero'] #hace referencia a los parametros"
   ]
  },
  {
   "cell_type": "code",
   "execution_count": null,
   "id": "c1276aa5",
   "metadata": {},
   "outputs": [],
   "source": [
    "cuenta['saldo']"
   ]
  },
  {
   "cell_type": "markdown",
   "id": "a890119d",
   "metadata": {},
   "source": [
    "## se crea una segunda cuenta "
   ]
  },
  {
   "cell_type": "code",
   "execution_count": null,
   "id": "7adc2bb1",
   "metadata": {},
   "outputs": [],
   "source": [
    "cuenta2={'numero':321, 'titular':'Rosa Flores Rojas', 'saldo':65.0, 'limite': 100.0}"
   ]
  },
  {
   "cell_type": "markdown",
   "id": "32396ccc",
   "metadata": {},
   "source": [
    "# como podemos encapsular este codigo?"
   ]
  },
  {
   "cell_type": "markdown",
   "id": "9fcfbdb8",
   "metadata": {},
   "source": [
    "## mediante el uso de una funcion"
   ]
  },
  {
   "cell_type": "code",
   "execution_count": null,
   "id": "be83bf47",
   "metadata": {},
   "outputs": [],
   "source": [
    "from test import crear_cuenta\n",
    "cuenta = crear_cuenta(123, 'Anacleto Metralla', 100.0, 1000.0)"
   ]
  },
  {
   "cell_type": "code",
   "execution_count": null,
   "id": "9e42e4b2",
   "metadata": {},
   "outputs": [],
   "source": [
    "cuenta['numero']"
   ]
  },
  {
   "cell_type": "code",
   "execution_count": null,
   "id": "4b19ba08",
   "metadata": {},
   "outputs": [],
   "source": [
    "cuenta['titular']"
   ]
  },
  {
   "cell_type": "markdown",
   "id": "b13f2b57",
   "metadata": {},
   "source": [
    "## vamos a crear una nueva funcionalidad en nuestro archivo: test.py"
   ]
  },
  {
   "cell_type": "code",
   "execution_count": null,
   "id": "cc4bfad5",
   "metadata": {},
   "outputs": [],
   "source": [
    "def depositar(cuenta, valor):\n",
    "    cuenta['saldo'] = cuenta['saldo'] + valor\n",
    "    \n",
    "def retirar(cuenta, valor):\n",
    "    cuenta['saldo'] = cuenta['saldo'] - valor\n",
    "    \n",
    "def extracto(cuenta):\n",
    "    print('saldo actual es de Bs.{}'.format(cuenta['saldo']))"
   ]
  },
  {
   "cell_type": "markdown",
   "id": "96af316e",
   "metadata": {},
   "source": [
    "## vamos a probar nuestra implementacion del codigo anterior"
   ]
  },
  {
   "cell_type": "code",
   "execution_count": 1,
   "id": "563184e1",
   "metadata": {},
   "outputs": [
    {
     "name": "stdout",
     "output_type": "stream",
     "text": [
      "saldo actual es de Bs.130.0\n"
     ]
    }
   ],
   "source": [
    "from test import crear_cuenta, depositar, retirar, extracto\n",
    "cuenta = crear_cuenta(123, 'Anacleto Metralla', 100.0, 1000.0)\n",
    "depositar(cuenta, 30)\n",
    "extracto(cuenta)\n",
    "\n",
    "#si cuando se esta queriendo ejecutar nos marca error y que no hay el archivo se hace:\n",
    "#1. Se va a kernel en la barra se da click\n",
    "#2. Se selecciona restart y clear output"
   ]
  },
  {
   "cell_type": "code",
   "execution_count": 2,
   "id": "b535db13",
   "metadata": {},
   "outputs": [
    {
     "name": "stdout",
     "output_type": "stream",
     "text": [
      "saldo actual es de Bs.80.0\n"
     ]
    }
   ],
   "source": [
    "retirar(cuenta,50)\n",
    "extracto(cuenta)"
   ]
  },
  {
   "cell_type": "markdown",
   "id": "a9b76553",
   "metadata": {},
   "source": [
    "## pero no hay una fuerte conexion (control) entre CUENTA y sus FUNCIONALIDADES.. ej"
   ]
  },
  {
   "cell_type": "code",
   "execution_count": 3,
   "id": "5661f754",
   "metadata": {},
   "outputs": [
    {
     "data": {
      "text/plain": [
       "200.0"
      ]
     },
     "execution_count": 3,
     "metadata": {},
     "output_type": "execute_result"
    }
   ],
   "source": [
    "cuenta['saldo'] = cuenta['saldo'] + 120\n",
    "cuenta['saldo']"
   ]
  },
  {
   "cell_type": "code",
   "execution_count": 4,
   "id": "d429c1ce",
   "metadata": {},
   "outputs": [],
   "source": [
    "cuenta2 = {'numero':321, 'saldo':400}"
   ]
  },
  {
   "cell_type": "code",
   "execution_count": 7,
   "id": "1b3b2f1c",
   "metadata": {},
   "outputs": [],
   "source": [
    "depositar(cuenta2, 100)"
   ]
  },
  {
   "cell_type": "code",
   "execution_count": 8,
   "id": "94afdc9a",
   "metadata": {},
   "outputs": [
    {
     "name": "stdout",
     "output_type": "stream",
     "text": [
      "saldo actual es de Bs.500\n"
     ]
    }
   ],
   "source": [
    "extracto(cuenta2)"
   ]
  },
  {
   "cell_type": "code",
   "execution_count": 9,
   "id": "1cc35409",
   "metadata": {},
   "outputs": [
    {
     "ename": "KeyError",
     "evalue": "'titular'",
     "output_type": "error",
     "traceback": [
      "\u001b[1;31m---------------------------------------------------------------------------\u001b[0m",
      "\u001b[1;31mKeyError\u001b[0m                                  Traceback (most recent call last)",
      "Cell \u001b[1;32mIn[9], line 1\u001b[0m\n\u001b[1;32m----> 1\u001b[0m cuenta2[\u001b[38;5;124m'\u001b[39m\u001b[38;5;124mtitular\u001b[39m\u001b[38;5;124m'\u001b[39m]\n",
      "\u001b[1;31mKeyError\u001b[0m: 'titular'"
     ]
    }
   ],
   "source": [
    "cuenta2['titular'] # nos sale error porq no ingresamos el parametro de titular"
   ]
  },
  {
   "cell_type": "markdown",
   "id": "78b04e1d",
   "metadata": {},
   "source": [
    "## y de la misma manera podriamos hacer con las otras funcionalidades\n",
    "## la POO asegura "
   ]
  },
  {
   "cell_type": "markdown",
   "id": "c138e3c3",
   "metadata": {},
   "source": [
    "# vamos a crear una nuevo archivo cuenta.py que tendra el siguiente codigo"
   ]
  },
  {
   "cell_type": "code",
   "execution_count": 10,
   "id": "aba49193",
   "metadata": {},
   "outputs": [],
   "source": [
    "class Cuenta: ##cuando es una clase la primera letra siempre es cn mayuscula\n",
    "    pass"
   ]
  },
  {
   "cell_type": "code",
   "execution_count": 12,
   "id": "a83bdd65",
   "metadata": {},
   "outputs": [
    {
     "data": {
      "text/plain": [
       "<cuenta.Cuenta at 0x1c44dd57e10>"
      ]
     },
     "execution_count": 12,
     "metadata": {},
     "output_type": "execute_result"
    }
   ],
   "source": [
    "from cuenta import Cuenta ## el numero largo es la direccion de memoria .. se esta creando el objeto\n",
    "Cuenta()"
   ]
  },
  {
   "cell_type": "code",
   "execution_count": 13,
   "id": "8d4aee2a",
   "metadata": {},
   "outputs": [
    {
     "data": {
      "text/plain": [
       "<cuenta.Cuenta at 0x1c44ccd9d50>"
      ]
     },
     "execution_count": 13,
     "metadata": {},
     "output_type": "execute_result"
    }
   ],
   "source": [
    "cuenta = Cuenta() ##cuenta es una variable a la cual se llama la clase cuenta .. \n",
    "cuenta"
   ]
  },
  {
   "cell_type": "markdown",
   "id": "0d730a8d",
   "metadata": {},
   "source": [
    "## vamos a implementar nuestra clase .. cuenta"
   ]
  },
  {
   "cell_type": "code",
   "execution_count": 1,
   "id": "294c940d",
   "metadata": {},
   "outputs": [],
   "source": [
    "class Cuenta:\n",
    "    def __init__(self): #siempre es doble _\n",
    "        print('Construyendo el objeto..')\n",
    "#cada vez que se crea una clase se debe llegar a hacer un constructor "
   ]
  },
  {
   "cell_type": "code",
   "execution_count": 3,
   "id": "afcc4d51",
   "metadata": {},
   "outputs": [
    {
     "name": "stdout",
     "output_type": "stream",
     "text": [
      "Construyendo el objeto..\n"
     ]
    },
    {
     "data": {
      "text/plain": [
       "<cuenta.Cuenta at 0x2da5ff21510>"
      ]
     },
     "execution_count": 3,
     "metadata": {},
     "output_type": "execute_result"
    }
   ],
   "source": [
    "from cuenta import Cuenta\n",
    "cuenta = Cuenta()\n",
    "cuenta #gracias a esto sale la direccion"
   ]
  },
  {
   "cell_type": "markdown",
   "id": "aa347957",
   "metadata": {},
   "source": [
    "## vamos a comenzar a definir los ... ATRIBUTOS"
   ]
  },
  {
   "cell_type": "code",
   "execution_count": 4,
   "id": "a9ab210f",
   "metadata": {},
   "outputs": [],
   "source": [
    "class Cuenta:\n",
    "    def __init__(self): #siempre es doble _\n",
    "        print('Construyendo el objeto..{}'.format(self)) #el self es para guardar la direccion de memoria"
   ]
  },
  {
   "cell_type": "code",
   "execution_count": 6,
   "id": "a5ef343a",
   "metadata": {},
   "outputs": [
    {
     "name": "stdout",
     "output_type": "stream",
     "text": [
      "Construyendo el objeto..\n"
     ]
    },
    {
     "data": {
      "text/plain": [
       "<cuenta.Cuenta at 0x2da5ff2d690>"
      ]
     },
     "execution_count": 6,
     "metadata": {},
     "output_type": "execute_result"
    }
   ],
   "source": [
    "from cuenta import Cuenta\n",
    "cuenta = Cuenta()\n",
    "cuenta"
   ]
  },
  {
   "cell_type": "markdown",
   "id": "492b8bc1",
   "metadata": {},
   "source": [
    "## self es la refencia que sabe encontrar el objeto construido en la memoria"
   ]
  },
  {
   "cell_type": "code",
   "execution_count": 7,
   "id": "fb5d01f1",
   "metadata": {},
   "outputs": [],
   "source": [
    "class Cuenta:\n",
    "    def __init__(self):\n",
    "        print(\"Construyendo el objeto..{}\".format(self))\n",
    "        self.numero = 123\n",
    "        self.titular = 'Anacleto Metralla'\n",
    "        self.cuenta = 100.00\n",
    "        self.limite = 1000.0"
   ]
  },
  {
   "cell_type": "markdown",
   "id": "c9420676",
   "metadata": {},
   "source": [
    "## podemos asignar PARAMETROS a nuestra clase, al momento de crear un OBJETO"
   ]
  },
  {
   "cell_type": "code",
   "execution_count": null,
   "id": "0120c8dd",
   "metadata": {},
   "outputs": [],
   "source": [
    "class Cuenta:\n",
    "    def __init__(self, numero, titular, saldo, limite):\n",
    "        print(\"Construyendo el objeto..{}\".format(self))\n",
    "        self.numero = numero\n",
    "        self.titular = titular\n",
    "        self.saldo = saldo\n",
    "        self.limite = limite"
   ]
  }
 ],
 "metadata": {
  "kernelspec": {
   "display_name": "Python 3 (ipykernel)",
   "language": "python",
   "name": "python3"
  },
  "language_info": {
   "codemirror_mode": {
    "name": "ipython",
    "version": 3
   },
   "file_extension": ".py",
   "mimetype": "text/x-python",
   "name": "python",
   "nbconvert_exporter": "python",
   "pygments_lexer": "ipython3",
   "version": "3.11.5"
  }
 },
 "nbformat": 4,
 "nbformat_minor": 5
}
